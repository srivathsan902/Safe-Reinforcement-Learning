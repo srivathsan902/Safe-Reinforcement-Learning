{
 "cells": [
  {
   "cell_type": "code",
   "execution_count": 2,
   "metadata": {},
   "outputs": [],
   "source": [
    "import sympy as sp"
   ]
  },
  {
   "cell_type": "code",
   "execution_count": 3,
   "metadata": {},
   "outputs": [],
   "source": [
    "# Define symbols for the state variables and parameters\n",
    "x, y, v_x, v_y, theta = sp.symbols('x y v_x v_y theta')\n",
    "\n",
    "# Constants\n",
    "d = 1.125\n",
    "r = 0.01\n",
    "mass = 0.46786522454870777\n",
    "\n",
    "# Distance function h1\n",
    "x_star = x + r * sp.cos(theta)\n",
    "h1 = d**2 - x_star**2\n",
    "\n",
    "# Compute the gradient of h1 with respect to the state variables\n",
    "grad_h1 = sp.Matrix([sp.diff(h1, var) for var in (x, y, v_x, v_y, theta)])"
   ]
  },
  {
   "cell_type": "code",
   "execution_count": 4,
   "metadata": {},
   "outputs": [
    {
     "data": {
      "text/latex": [
       "$\\displaystyle \\left[\\begin{matrix}- 2 x - 0.02 \\cos{\\left(\\theta \\right)}\\\\0\\\\0\\\\0\\\\0.02 \\left(x + 0.01 \\cos{\\left(\\theta \\right)}\\right) \\sin{\\left(\\theta \\right)}\\end{matrix}\\right]$"
      ],
      "text/plain": [
       "Matrix([\n",
       "[               -2*x - 0.02*cos(theta)],\n",
       "[                                    0],\n",
       "[                                    0],\n",
       "[                                    0],\n",
       "[0.02*(x + 0.01*cos(theta))*sin(theta)]])"
      ]
     },
     "execution_count": 4,
     "metadata": {},
     "output_type": "execute_result"
    }
   ],
   "source": [
    "grad_h1"
   ]
  },
  {
   "cell_type": "code",
   "execution_count": 5,
   "metadata": {},
   "outputs": [],
   "source": [
    "h2 = sp.diff(h1,x)*v_x + sp.diff(h1,y)*v_y\n",
    "\n",
    "grad_h2 = sp.Matrix([sp.diff(h2, var) for var in (x, y, v_x, v_y, theta)])"
   ]
  },
  {
   "cell_type": "code",
   "execution_count": 6,
   "metadata": {},
   "outputs": [
    {
     "data": {
      "text/latex": [
       "$\\displaystyle \\left[\\begin{matrix}- 2 v_{x}\\\\0\\\\- 2 x - 0.02 \\cos{\\left(\\theta \\right)}\\\\0\\\\0.02 v_{x} \\sin{\\left(\\theta \\right)}\\end{matrix}\\right]$"
      ],
      "text/plain": [
       "Matrix([\n",
       "[                -2*v_x],\n",
       "[                     0],\n",
       "[-2*x - 0.02*cos(theta)],\n",
       "[                     0],\n",
       "[   0.02*v_x*sin(theta)]])"
      ]
     },
     "execution_count": 6,
     "metadata": {},
     "output_type": "execute_result"
    }
   ],
   "source": [
    "grad_h2"
   ]
  },
  {
   "cell_type": "code",
   "execution_count": 7,
   "metadata": {},
   "outputs": [],
   "source": [
    "f = sp.Matrix([v_x, v_y, 0, 0, 0])\n",
    "g = sp.Matrix([[0, 0], [0, 0], [sp.cos(theta)/mass, 0], [sp.sin(theta)/mass, 0], [0, 1]])\n",
    "\n",
    "Force, omega = sp.symbols('F w')\n",
    "action = sp.Matrix([Force, omega])\n",
    "\n",
    "X_dot = f + g * action"
   ]
  },
  {
   "cell_type": "code",
   "execution_count": 8,
   "metadata": {},
   "outputs": [
    {
     "data": {
      "text/latex": [
       "$\\displaystyle \\left[\\begin{matrix}v_{x}\\\\v_{y}\\\\0\\\\0\\\\0\\end{matrix}\\right]$"
      ],
      "text/plain": [
       "Matrix([\n",
       "[v_x],\n",
       "[v_y],\n",
       "[  0],\n",
       "[  0],\n",
       "[  0]])"
      ]
     },
     "execution_count": 8,
     "metadata": {},
     "output_type": "execute_result"
    }
   ],
   "source": [
    "f"
   ]
  },
  {
   "cell_type": "code",
   "execution_count": 9,
   "metadata": {},
   "outputs": [
    {
     "data": {
      "text/latex": [
       "$\\displaystyle \\left[\\begin{matrix}0 & 0\\\\0 & 0\\\\2.13736765959594 \\cos{\\left(\\theta \\right)} & 0\\\\2.13736765959594 \\sin{\\left(\\theta \\right)} & 0\\\\0 & 1\\end{matrix}\\right]$"
      ],
      "text/plain": [
       "Matrix([\n",
       "[                          0, 0],\n",
       "[                          0, 0],\n",
       "[2.13736765959594*cos(theta), 0],\n",
       "[2.13736765959594*sin(theta), 0],\n",
       "[                          0, 1]])"
      ]
     },
     "execution_count": 9,
     "metadata": {},
     "output_type": "execute_result"
    }
   ],
   "source": [
    "g"
   ]
  },
  {
   "cell_type": "code",
   "execution_count": 10,
   "metadata": {},
   "outputs": [
    {
     "data": {
      "text/latex": [
       "$\\displaystyle \\left[\\begin{matrix}v_{x}\\\\v_{y}\\\\2.13736765959594 F \\cos{\\left(\\theta \\right)}\\\\2.13736765959594 F \\sin{\\left(\\theta \\right)}\\\\w\\end{matrix}\\right]$"
      ],
      "text/plain": [
       "Matrix([\n",
       "[                          v_x],\n",
       "[                          v_y],\n",
       "[2.13736765959594*F*cos(theta)],\n",
       "[2.13736765959594*F*sin(theta)],\n",
       "[                            w]])"
      ]
     },
     "execution_count": 10,
     "metadata": {},
     "output_type": "execute_result"
    }
   ],
   "source": [
    "X_dot"
   ]
  },
  {
   "cell_type": "code",
   "execution_count": 11,
   "metadata": {},
   "outputs": [
    {
     "data": {
      "text/latex": [
       "$\\displaystyle \\left[\\begin{matrix}v_{x} \\left(- 2 x - 0.02 \\cos{\\left(\\theta \\right)}\\right) + 0.02 w \\left(x + 0.01 \\cos{\\left(\\theta \\right)}\\right) \\sin{\\left(\\theta \\right)}\\end{matrix}\\right]$"
      ],
      "text/plain": [
       "Matrix([[v_x*(-2*x - 0.02*cos(theta)) + 0.02*w*(x + 0.01*cos(theta))*sin(theta)]])"
      ]
     },
     "execution_count": 11,
     "metadata": {},
     "output_type": "execute_result"
    }
   ],
   "source": [
    "grad_h1.T@X_dot"
   ]
  },
  {
   "cell_type": "code",
   "execution_count": 12,
   "metadata": {},
   "outputs": [
    {
     "data": {
      "text/latex": [
       "$\\displaystyle \\left[\\begin{matrix}0.02 w \\left(0.01 \\cos{\\left(45 \\right)} + 1\\right) \\sin{\\left(45 \\right)}\\end{matrix}\\right]$"
      ],
      "text/plain": [
       "Matrix([[0.02*w*(0.01*cos(45) + 1)*sin(45)]])"
      ]
     },
     "execution_count": 12,
     "metadata": {},
     "output_type": "execute_result"
    }
   ],
   "source": [
    "(grad_h1.T@X_dot).subs({x:1, y:0, v_x:0, v_y:0, theta:45})"
   ]
  },
  {
   "cell_type": "code",
   "execution_count": 13,
   "metadata": {},
   "outputs": [
    {
     "data": {
      "text/latex": [
       "$\\displaystyle \\left[\\begin{matrix}2.13736765959594 F \\left(- 2 x - 0.02 \\cos{\\left(\\theta \\right)}\\right) \\cos{\\left(\\theta \\right)} - 2 v_{x}^{2} + 0.02 v_{x} w \\sin{\\left(\\theta \\right)}\\end{matrix}\\right]$"
      ],
      "text/plain": [
       "Matrix([[2.13736765959594*F*(-2*x - 0.02*cos(theta))*cos(theta) - 2*v_x**2 + 0.02*v_x*w*sin(theta)]])"
      ]
     },
     "execution_count": 13,
     "metadata": {},
     "output_type": "execute_result"
    }
   ],
   "source": [
    "grad_h2.T@X_dot"
   ]
  },
  {
   "cell_type": "code",
   "execution_count": 16,
   "metadata": {},
   "outputs": [],
   "source": [
    "constraint_1 = grad_h1.dot(X_dot) - h1"
   ]
  },
  {
   "cell_type": "code",
   "execution_count": 17,
   "metadata": {},
   "outputs": [
    {
     "data": {
      "text/latex": [
       "$\\displaystyle v_{x} \\left(- 2 x - 0.02 \\cos{\\left(\\theta \\right)}\\right) + 0.02 w \\left(x + 0.01 \\cos{\\left(\\theta \\right)}\\right) \\sin{\\left(\\theta \\right)} + \\left(x + 0.01 \\cos{\\left(\\theta \\right)}\\right)^{2} - 1.265625$"
      ],
      "text/plain": [
       "v_x*(-2*x - 0.02*cos(theta)) + 0.02*w*(x + 0.01*cos(theta))*sin(theta) + (x + 0.01*cos(theta))**2 - 1.265625"
      ]
     },
     "execution_count": 17,
     "metadata": {},
     "output_type": "execute_result"
    }
   ],
   "source": [
    "constraint_1"
   ]
  },
  {
   "cell_type": "code",
   "execution_count": null,
   "metadata": {},
   "outputs": [],
   "source": []
  },
  {
   "cell_type": "code",
   "execution_count": null,
   "metadata": {},
   "outputs": [],
   "source": []
  }
 ],
 "metadata": {
  "kernelspec": {
   "display_name": "safety_gym",
   "language": "python",
   "name": "python3"
  },
  "language_info": {
   "codemirror_mode": {
    "name": "ipython",
    "version": 3
   },
   "file_extension": ".py",
   "mimetype": "text/x-python",
   "name": "python",
   "nbconvert_exporter": "python",
   "pygments_lexer": "ipython3",
   "version": "3.8.19"
  }
 },
 "nbformat": 4,
 "nbformat_minor": 2
}
